{
 "cells": [
  {
   "cell_type": "markdown",
   "metadata": {},
   "source": [
    "# 手把手打一场NLP赛事"
   ]
  },
  {
   "cell_type": "markdown",
   "metadata": {},
   "source": [
    "## 0. 版本比较 V2\n",
    "相较于Ver 1 baseline版本，这个版本中我将按照学习手册进行一些额外的尝试。"
   ]
  },
  {
   "cell_type": "markdown",
   "metadata": {},
   "source": [
    "自然语言处理（Natural Language Processing，NLP）是指计算机处理和理解人类语言的技术。NLP涵盖了从文本的基本语法和词汇处理到更高级的任务，如机器翻译、情感分析、问答系统等。NLP利用计算机算法和模型，对文本进行分词、词性标注、句法分析等处理，以便将人类语言转化为计算机可以理解和处理的形式"
   ]
  },
  {
   "cell_type": "markdown",
   "metadata": {},
   "source": [
    "## 1. 赛题信息\n",
    "医学领域的文献库中蕴含了丰富的疾病诊断和治疗信息，如何高效地从海量文献中提取关键信息，进行疾病诊断和治疗推荐，对于临床医生和研究人员具有重要意义。  \n"
   ]
  },
  {
   "cell_type": "markdown",
   "metadata": {},
   "source": [
    "基于论文摘要的文本分类与关键词抽取挑战赛  \n",
    "https://challenge.xfyun.cn/topic/info?type=abstract-of-the-paper&ch=ymfk4uU"
   ]
  },
  {
   "cell_type": "markdown",
   "metadata": {},
   "source": [
    "![](https://ai-studio-static-online.cdn.bcebos.com/bc8c545638eb4200a68836ed741b6fe7d75108e9009d443b8de5b33fb8e0fa55)\n"
   ]
  },
  {
   "cell_type": "markdown",
   "metadata": {},
   "source": [
    "## 2.准备步骤"
   ]
  },
  {
   "cell_type": "markdown",
   "metadata": {},
   "source": [
    "### 2.1 赛事报名\n",
    "赛事地址：https://challenge.xfyun.cn/topic/info?type=abstract-of-the-paper&ch=ZuoaKcY\n",
    "1. 点击报名参赛，登录讯飞开放平台。"
   ]
  },
  {
   "cell_type": "markdown",
   "metadata": {},
   "source": [
    "### 2.2 数据下载\n",
    "数据已提前下载在数据集目录下，您可以自行查看其中的train与test文件"
   ]
  },
  {
   "cell_type": "markdown",
   "metadata": {},
   "source": [
    "### 2.3 环境配置参考资料\n",
    "python环境的搭建请参考：\n",
    "- [Mac设备：Mac上安装Anaconda最全教程](https://zhuanlan.zhihu.com/p/350828057)\n",
    "- [Windows设备：Anaconda超详细安装教程(Windows环境下)_菜鸟1号!!的博客-CSDN博客_windows安装anaconda](https://blog.csdn.net/fan18317517352/article/details/123035625)\n",
    "Jupyter 编辑器的使用请参考：\n",
    "- [Jupyter Notebook最全使用教程，看这篇就够了！](https://www.jianshu.com/p/6cc047bc94e5)"
   ]
  },
  {
   "cell_type": "markdown",
   "metadata": {},
   "source": [
    "## 3. 赛题解析\n",
    "实践任务\n",
    "本任务分为两个子任务：\n",
    "1. 从论文标题、摘要作者等信息，判断该论文是否属于医学领域的文献。\n",
    "2. 从论文标题、摘要作者等信息，提取出该论文关键词。\n",
    "\n",
    "第一个任务看作是一个文本二分类任务。机器需要根据对论文摘要等信息的理解，将论文划分为医学领域的文献和非医学领域的文献两个类别之一。第二个任务看作是一个文本关键词识别任务。机器需要从给定的论文中识别和提取出与论文内容相关的关键词。  \n",
    "\n",
    "**本次学习中我们仅学习第一个任务**  \n",
    "\n",
    "数据集解析\n",
    "训练集与测试集数据为CSV格式文件，各字段分别是标题、作者和摘要。Keywords为任务2的标签，label为任务1的标签。训练集和测试集都可以通过pandas读取。"
   ]
  },
  {
   "cell_type": "markdown",
   "metadata": {},
   "source": [
    "![](https://ai-studio-static-online.cdn.bcebos.com/8c88537bce9d46049151389396c4c5b828556ba332d34ed3a24555e4e28e7191)\n"
   ]
  },
  {
   "cell_type": "markdown",
   "metadata": {},
   "source": [
    "## 4.实践思路&baseline\n",
    "### 实践思路\n",
    "本赛题任务主要如下：\n",
    "1. 从论文标题、摘要作者等信息，判断该论文是否属于医学领域的文献。\n"
   ]
  },
  {
   "cell_type": "markdown",
   "metadata": {},
   "source": [
    "#### 任务一：文本二分类\n",
    "第一个任务看作是一个文本二分类任务。机器需要根据对论文摘要等信息的理解，将论文划分为医学领域的文献和非医学领域的文献两个类别之一。\n",
    "\n",
    "针对文本分类任务，可以提供两种实践思路，一种是使用传统的特征提取方法（如TF-IDF/BOW）结合机器学习模型，另一种是使用预训练的BERT模型进行建模。使用特征提取 + 机器学习的思路步骤如下：\n",
    "1. 数据预处理：首先，对文本数据进行预处理，包括文本清洗（如去除特殊字符、标点符号）、分词等操作。可以使用常见的NLP工具包（如NLTK或spaCy）来辅助进行预处理。\n",
    "2. 特征提取：使用TF-IDF（词频-逆文档频率）或BOW（词袋模型）方法将文本转换为向量表示。TF-IDF可以计算文本中词语的重要性，而BOW则简单地统计每个词语在文本中的出现次数。可以使用scikit-learn库的TfidfVectorizer或CountVectorizer来实现特征提取。\n",
    "3. 构建训练集和测试集：将预处理后的文本数据分割为训练集和测试集，确保数据集的样本分布均匀。\n",
    "4. 选择机器学习模型：根据实际情况选择适合的机器学习模型，如朴素贝叶斯、支持向量机（SVM）、随机森林等。这些模型在文本分类任务中表现良好。可以使用scikit-learn库中相应的分类器进行模型训练和评估。\n",
    "5. 模型训练和评估：使用训练集对选定的机器学习模型进行训练，然后使用测试集进行评估。评估指标可以选择准确率、精确率、召回率、F1值等。\n",
    "6. 调参优化：如果模型效果不理想，可以尝试调整特征提取的参数（如词频阈值、词袋大小等）或机器学习模型的参数，以获得更好的性能。  \n",
    "\n",
    "\n",
    "Baseline中我们选择使用BOW将文本转换为向量表示，选择逻辑回归模型来完成训练和评估  \n",
    "代码演示如下："
   ]
  },
  {
   "cell_type": "markdown",
   "metadata": {},
   "source": [
    "## 模块，数据导入与预处理"
   ]
  },
  {
   "cell_type": "code",
   "execution_count": 2,
   "metadata": {
    "execution": {
     "iopub.execute_input": "2023-08-17T16:06:06.704580Z",
     "iopub.status.busy": "2023-08-17T16:06:06.703827Z",
     "iopub.status.idle": "2023-08-17T16:06:08.532655Z",
     "shell.execute_reply": "2023-08-17T16:06:08.531442Z",
     "shell.execute_reply.started": "2023-08-17T16:06:06.704540Z"
    },
    "scrolled": true
   },
   "outputs": [
    {
     "name": "stdout",
     "output_type": "stream",
     "text": [
      "Requirement already satisfied: nltk in /opt/conda/envs/python35-paddle120-env/lib/python3.10/site-packages (3.8.1)\r\n",
      "Requirement already satisfied: click in /opt/conda/envs/python35-paddle120-env/lib/python3.10/site-packages (from nltk) (8.1.6)\r\n",
      "Requirement already satisfied: joblib in /opt/conda/envs/python35-paddle120-env/lib/python3.10/site-packages (from nltk) (1.3.1)\r\n",
      "Requirement already satisfied: regex>=2021.8.3 in /opt/conda/envs/python35-paddle120-env/lib/python3.10/site-packages (from nltk) (2023.8.8)\r\n",
      "Requirement already satisfied: tqdm in /opt/conda/envs/python35-paddle120-env/lib/python3.10/site-packages (from nltk) (4.65.0)\r\n"
     ]
    }
   ],
   "source": [
    "# 获取前置依赖\n",
    "!pip install nltk -i https://pypi.org/simple\n"
   ]
  },
  {
   "cell_type": "code",
   "execution_count": 3,
   "metadata": {
    "execution": {
     "iopub.execute_input": "2023-08-17T16:06:19.865678Z",
     "iopub.status.busy": "2023-08-17T16:06:19.864376Z",
     "iopub.status.idle": "2023-08-17T16:06:19.870838Z",
     "shell.execute_reply": "2023-08-17T16:06:19.870118Z",
     "shell.execute_reply.started": "2023-08-17T16:06:19.865629Z"
    },
    "scrolled": true
   },
   "outputs": [],
   "source": [
    "# 导入pandas用于读取表格数据\n",
    "import pandas as pd\n",
    "\n",
    "# 导入BOW（词袋模型），可以选择将CountVectorizer替换为TfidfVectorizer（TF-IDF（词频-逆文档频率）），注意上下文要同时修改，亲测后者效果更佳\n",
    "from sklearn.feature_extraction.text import TfidfVectorizer\n",
    "# 导入LogisticRegression回归模型\n",
    "from sklearn.linear_model import LogisticRegression\n",
    "\n",
    "# 过滤警告消息\n",
    "from warnings import simplefilter\n",
    "from sklearn.exceptions import ConvergenceWarning\n",
    "## Scikit-learn defines its own set of exceptions that are used to handle specific situations and errors \n",
    "## that might occur during the usage of its functions and classes. These exceptions help to \n",
    "## provide more informative error messages and to handle exceptional cases gracefully. \n",
    "## e.g. \"Not Fitted Error\",\"Value Error\", \"ConvergenceWarning\"\n",
    "## using simplefilter we ignore the non-convergence warning from the model when training.\n",
    "simplefilter(\"ignore\", category=ConvergenceWarning)"
   ]
  },
  {
   "cell_type": "code",
   "execution_count": 20,
   "metadata": {
    "collapsed": false,
    "execution": {
     "iopub.execute_input": "2023-08-17T16:31:54.190519Z",
     "iopub.status.busy": "2023-08-17T16:31:54.189963Z",
     "iopub.status.idle": "2023-08-17T16:31:54.396495Z",
     "shell.execute_reply": "2023-08-17T16:31:54.395419Z",
     "shell.execute_reply.started": "2023-08-17T16:31:54.190485Z"
    },
    "jupyter": {
     "outputs_hidden": false
    },
    "scrolled": true,
    "tags": []
   },
   "outputs": [],
   "source": [
    "# 读取训练集train和测试集test两个pdDataframe\n",
    "# 将title和abstract缺失的部分用.fillna('')补全\n",
    "train = pd.read_csv('/home/aistudio/data/data231041/train.csv')\n",
    "train['title'] = train['title'].fillna('')\n",
    "train['abstract'] = train['abstract'].fillna('')\n",
    "test = pd.read_csv('/home/aistudio/data/data231041/testB.csv')\n",
    "test['title'] = test['title'].fillna('')\n",
    "test['abstract'] = test['abstract'].fillna('')\n",
    "\n",
    "## 训练集包含 6000 文章 (uuid, title, author, abstract, keywords, yes/no); \n",
    "## 测试集包含 2000 篇文章 (uuid, title, author, abstract)\n",
    "# train.shape, test.shape\n",
    "# train.head()"
   ]
  },
  {
   "cell_type": "markdown",
   "metadata": {},
   "source": [
    "## 提取文本特征，生成训练集与测试集"
   ]
  },
  {
   "cell_type": "code",
   "execution_count": 21,
   "metadata": {
    "execution": {
     "iopub.execute_input": "2023-08-17T16:31:56.634295Z",
     "iopub.status.busy": "2023-08-17T16:31:56.633758Z",
     "iopub.status.idle": "2023-08-17T16:31:56.698518Z",
     "shell.execute_reply": "2023-08-17T16:31:56.697582Z",
     "shell.execute_reply.started": "2023-08-17T16:31:56.634265Z"
    },
    "scrolled": true,
    "tags": []
   },
   "outputs": [
    {
     "data": {
      "text/html": [
       "<div>\n",
       "<style scoped>\n",
       "    .dataframe tbody tr th:only-of-type {\n",
       "        vertical-align: middle;\n",
       "    }\n",
       "\n",
       "    .dataframe tbody tr th {\n",
       "        vertical-align: top;\n",
       "    }\n",
       "\n",
       "    .dataframe thead th {\n",
       "        text-align: right;\n",
       "    }\n",
       "</style>\n",
       "<table border=\"1\" class=\"dataframe\">\n",
       "  <thead>\n",
       "    <tr style=\"text-align: right;\">\n",
       "      <th></th>\n",
       "      <th>uuid</th>\n",
       "      <th>title</th>\n",
       "      <th>author</th>\n",
       "      <th>abstract</th>\n",
       "      <th>Keywords</th>\n",
       "      <th>label</th>\n",
       "      <th>text</th>\n",
       "    </tr>\n",
       "  </thead>\n",
       "  <tbody>\n",
       "    <tr>\n",
       "      <th>0</th>\n",
       "      <td>0</td>\n",
       "      <td>Accessible Visual Artworks for Blind and Visua...</td>\n",
       "      <td>Quero, Luis Cavazos; Bartolome, Jorge Iranzo; ...</td>\n",
       "      <td>Despite the use of tactile graphics and audio ...</td>\n",
       "      <td>accessibility technology; multimodal interacti...</td>\n",
       "      <td>0</td>\n",
       "      <td>Accessible Visual Artworks for Blind and Visua...</td>\n",
       "    </tr>\n",
       "    <tr>\n",
       "      <th>1</th>\n",
       "      <td>1</td>\n",
       "      <td>Seizure Detection and Prediction by Parallel M...</td>\n",
       "      <td>Li, Chenqi; Lammie, Corey; Dong, Xuening; Amir...</td>\n",
       "      <td>During the past two decades, epileptic seizure...</td>\n",
       "      <td>CNN; Seizure Detection; Seizure Prediction; EE...</td>\n",
       "      <td>1</td>\n",
       "      <td>Seizure Detection and Prediction by Parallel M...</td>\n",
       "    </tr>\n",
       "    <tr>\n",
       "      <th>2</th>\n",
       "      <td>2</td>\n",
       "      <td>Fast ScanNet: Fast and Dense Analysis of Multi...</td>\n",
       "      <td>Lin, Huangjing; Chen, Hao; Graham, Simon; Dou,...</td>\n",
       "      <td>Lymph node metastasis is one of the most impor...</td>\n",
       "      <td>Histopathology image analysis; computational p...</td>\n",
       "      <td>1</td>\n",
       "      <td>Fast ScanNet: Fast and Dense Analysis of Multi...</td>\n",
       "    </tr>\n",
       "    <tr>\n",
       "      <th>3</th>\n",
       "      <td>3</td>\n",
       "      <td>Long-Term Effectiveness of Antiretroviral Ther...</td>\n",
       "      <td>Huang, Peng; Tan, Jingguang; Ma, Wenzhe; Zheng...</td>\n",
       "      <td>In order to assess the effectiveness of the Ch...</td>\n",
       "      <td>HIV; ART; mortality; observational cohort stud...</td>\n",
       "      <td>0</td>\n",
       "      <td>Long-Term Effectiveness of Antiretroviral Ther...</td>\n",
       "    </tr>\n",
       "    <tr>\n",
       "      <th>4</th>\n",
       "      <td>4</td>\n",
       "      <td>Real-Time Facial Affective Computing on Mobile...</td>\n",
       "      <td>Guo, Yuanyuan; Xia, Yifan; Wang, Jing; Yu, Hui...</td>\n",
       "      <td>Convolutional Neural Networks (CNNs) have beco...</td>\n",
       "      <td>facial affective computing; convolutional neur...</td>\n",
       "      <td>0</td>\n",
       "      <td>Real-Time Facial Affective Computing on Mobile...</td>\n",
       "    </tr>\n",
       "  </tbody>\n",
       "</table>\n",
       "</div>"
      ],
      "text/plain": [
       "   uuid                                              title  \\\n",
       "0     0  Accessible Visual Artworks for Blind and Visua...   \n",
       "1     1  Seizure Detection and Prediction by Parallel M...   \n",
       "2     2  Fast ScanNet: Fast and Dense Analysis of Multi...   \n",
       "3     3  Long-Term Effectiveness of Antiretroviral Ther...   \n",
       "4     4  Real-Time Facial Affective Computing on Mobile...   \n",
       "\n",
       "                                              author  \\\n",
       "0  Quero, Luis Cavazos; Bartolome, Jorge Iranzo; ...   \n",
       "1  Li, Chenqi; Lammie, Corey; Dong, Xuening; Amir...   \n",
       "2  Lin, Huangjing; Chen, Hao; Graham, Simon; Dou,...   \n",
       "3  Huang, Peng; Tan, Jingguang; Ma, Wenzhe; Zheng...   \n",
       "4  Guo, Yuanyuan; Xia, Yifan; Wang, Jing; Yu, Hui...   \n",
       "\n",
       "                                            abstract  \\\n",
       "0  Despite the use of tactile graphics and audio ...   \n",
       "1  During the past two decades, epileptic seizure...   \n",
       "2  Lymph node metastasis is one of the most impor...   \n",
       "3  In order to assess the effectiveness of the Ch...   \n",
       "4  Convolutional Neural Networks (CNNs) have beco...   \n",
       "\n",
       "                                            Keywords  label  \\\n",
       "0  accessibility technology; multimodal interacti...      0   \n",
       "1  CNN; Seizure Detection; Seizure Prediction; EE...      1   \n",
       "2  Histopathology image analysis; computational p...      1   \n",
       "3  HIV; ART; mortality; observational cohort stud...      0   \n",
       "4  facial affective computing; convolutional neur...      0   \n",
       "\n",
       "                                                text  \n",
       "0  Accessible Visual Artworks for Blind and Visua...  \n",
       "1  Seizure Detection and Prediction by Parallel M...  \n",
       "2  Fast ScanNet: Fast and Dense Analysis of Multi...  \n",
       "3  Long-Term Effectiveness of Antiretroviral Ther...  \n",
       "4  Real-Time Facial Affective Computing on Mobile...  "
      ]
     },
     "execution_count": 21,
     "metadata": {},
     "output_type": "execute_result"
    }
   ],
   "source": [
    "## 在训练集train(pdDataFrame)中增添一列series，叫作text，包含文件标题作者摘要和关键词\n",
    "## 在测试集train(pdDataFrame)中增添一列series，叫作text，包含文件标题作者摘要\n",
    "## pandas series可以直接求和，批量操作\n",
    "train['text'] = train['title'].fillna('') + ' ' +  train['author'].fillna('') + ' ' + train['abstract'].fillna('')+ ' ' + train['Keywords'].fillna('')\n",
    "test['text'] = test['title'].fillna('') + ' ' +  test['author'].fillna('') + ' ' + test['abstract'].fillna('')\n",
    "\n",
    "train.head()\n",
    "# test.head()"
   ]
  },
  {
   "cell_type": "markdown",
   "metadata": {},
   "source": [
    "与Version 1不相同，在计算Tfidf值之前，我们想要先排除一些过于常见的词，称之为停用词。\n",
    "以下加载停用词,存储在list \"stops\"中"
   ]
  },
  {
   "cell_type": "code",
   "execution_count": 15,
   "metadata": {
    "execution": {
     "iopub.execute_input": "2023-08-17T16:23:53.412445Z",
     "iopub.status.busy": "2023-08-17T16:23:53.411146Z",
     "iopub.status.idle": "2023-08-17T16:23:53.418856Z",
     "shell.execute_reply": "2023-08-17T16:23:53.417837Z",
     "shell.execute_reply.started": "2023-08-17T16:23:53.412401Z"
    },
    "scrolled": true,
    "tags": []
   },
   "outputs": [
    {
     "name": "stdout",
     "output_type": "stream",
     "text": [
      "[\"'d\", \"'ll\", \"'m\", \"'re\", \"'s\", \"'t\", \"'ve\", 'ZT', 'ZZ', 'a', \"a's\", 'able', 'about', 'above', 'abst', 'accordance', 'according', 'accordingly', 'across', 'act', 'actually', 'added', 'adj', 'adopted', 'affected', 'affecting', 'affects', 'after', 'afterwards', 'again', 'against', 'ah', \"ain't\", 'all', 'allow', 'allows', 'almost', 'alone', 'along', 'already', 'also', 'although', 'always', 'am', 'among', 'amongst', 'an', 'and', 'announce', 'another', 'any', 'anybody', 'anyhow', 'anymore', 'anyone', 'anything', 'anyway', 'anyways', 'anywhere', 'apart', 'apparently', 'appear', 'appreciate', 'appropriate', 'approximately', 'are', 'area', 'areas', 'aren', \"aren't\", 'arent', 'arise', 'around', 'as', 'aside', 'ask', 'asked', 'asking', 'asks', 'associated', 'at', 'auth', 'available', 'away', 'awfully', 'b', 'back', 'backed', 'backing', 'backs', 'be', 'became', 'because', 'become', 'becomes', 'becoming', 'been', 'before', 'beforehand', 'began', 'begin', 'beginning', 'beginnings', 'begins', 'behi\r\n"
     ]
    }
   ],
   "source": [
    "stops = open(r'stop.txt',encoding='utf-8').readlines()\r\n",
    "stops = [i.strip('\\n') for i in stops]\r\n",
    "print(stops)"
   ]
  },
  {
   "cell_type": "markdown",
   "metadata": {},
   "source": [
    "## 计算(word,text) 的TfIdf值\n",
    "\n",
    "#### 增添一些关于TfidfVectorizer()的使用方法说明：\n",
    "\n",
    "vector = TfidVectorizer()一个空的实例\n",
    "\n",
    "vector.fit( ... )\n",
    "输入是一个Pandas series或者是list，内容为一个系列的纯text。\n",
    "找出所有在输入系列里存在的所有单词，注意.fit只找出并存储那些单词并给他们标号\n",
    "输出是一个被fit过的TfidVectorizer实例\n",
    "\n",
    "vector.transform( ... )\n",
    "输入是一个Pandas series或者是list，内容为一个系列的纯text。\n",
    "此处vector需要是一个被fit过的TfidfVectorizer实例，然后它会计算Tfidf值\n",
    "输出是一个scipy sparse matrix\n",
    "\n",
    "vector.fit_transform( ... )\n",
    "将以上两步并了起来。\n",
    "针对我们的目标，两部需要分开做，具体见代码批注"
   ]
  },
  {
   "cell_type": "markdown",
   "metadata": {},
   "source": [
    "### 以下我们引入交叉验证集\n",
    "\n",
    "不同于V1, 我们将原有的训练集train（有是否为医学文献的label）分为70% 30% 的新训练集train2和验证集eval2；\n",
    "\n",
    "测试集（无label）保持不动。\n",
    "我们使用新训练集来训练模型并用验证集来评分！"
   ]
  },
  {
   "cell_type": "code",
   "execution_count": 59,
   "metadata": {
    "execution": {
     "iopub.execute_input": "2023-08-17T17:17:36.786083Z",
     "iopub.status.busy": "2023-08-17T17:17:36.785003Z",
     "iopub.status.idle": "2023-08-17T17:17:36.798511Z",
     "shell.execute_reply": "2023-08-17T17:17:36.797339Z",
     "shell.execute_reply.started": "2023-08-17T17:17:36.786046Z"
    },
    "scrolled": true,
    "tags": []
   },
   "outputs": [
    {
     "name": "stdout",
     "output_type": "stream",
     "text": [
      "(6000, 7) is the shape of original table of papers; \r\n",
      "(4200, 7) and (1800, 7) are the shapes of training and evaluating sets\r\n"
     ]
    }
   ],
   "source": [
    "from sklearn.model_selection import train_test_split\r\n",
    "train2, eval2 = train_test_split(train, test_size = 0.3)\r\n",
    "print(\"{} is the shape of original table of papers; \\n{} and {} are the shapes of training and evaluating sets\"\r\n",
    "    .format(train.shape,train2.shape,eval2.shape))\r\n"
   ]
  },
  {
   "cell_type": "markdown",
   "metadata": {},
   "source": [
    "随后我们开始提取新训练集train2里的所有词汇，提取时，忽略stops中所提到的所有停用词。\n",
    "\n",
    "将这些词汇fit进一个叫做vector的TfidfVectorizer\n"
   ]
  },
  {
   "cell_type": "code",
   "execution_count": 60,
   "metadata": {
    "execution": {
     "iopub.execute_input": "2023-08-17T17:17:39.074145Z",
     "iopub.status.busy": "2023-08-17T17:17:39.073491Z",
     "iopub.status.idle": "2023-08-17T17:17:41.150444Z",
     "shell.execute_reply": "2023-08-17T17:17:41.149421Z",
     "shell.execute_reply.started": "2023-08-17T17:17:39.074112Z"
    },
    "scrolled": true,
    "tags": []
   },
   "outputs": [],
   "source": [
    "# 定义vector为TfidfVectorizer的实例\r\n",
    "## 注意此处和Ver 1的不同：vectorizer在被fit的时候只存储不属于stops（停用词）的词汇\r\n",
    "vector = TfidfVectorizer(stop_words = stops)\r\n",
    "# 取出新训练集train2中'text'为heading的pandas series来fit vector，从而\r\n",
    "# 让vector存储series中所提到的所有词汇。vector于是变成fill过的TfidfVectorizer实例\r\n",
    "vector = vector.fit(train2['text'])\r\n",
    "\r\n",
    "# 用vector这个fill过的实例中vocabulary的编号来transform三个列表的texts,取得tfidf score存储在分别的稀疏矩阵中\r\n",
    "# train2_matrix, eval2_matrix, test_matrix都统一用fit过的vector来作transform\r\n",
    "# 这是为了保证同一词汇在两个稀疏矩阵中对应的词汇标号一致(如protein在两个稀疏矩阵里的标号都是67423)\r\n",
    "train2_matrix = vector.transform(train2['text'])\r\n",
    "eval2_matrix = vector.transform(eval2['text'])\r\n",
    "test_matrix = vector.transform(test['text'])"
   ]
  },
  {
   "cell_type": "markdown",
   "metadata": {},
   "source": [
    "train_matrix和eval_matrix稀疏矩阵存储完毕。\n",
    "\n",
    "注意到两者列数相同，数字相同是因为在获取这两个稀疏矩阵时统一使用的都是fit好的vector(vectorizer)，vector中包含train['text']中所有vocabulary及对应的列号码。\n",
    "\n",
    "（但相比于Ver 1中训练集,新训练集更小，总统计到的词更少所以列数少了）"
   ]
  },
  {
   "cell_type": "code",
   "execution_count": 62,
   "metadata": {
    "execution": {
     "iopub.execute_input": "2023-08-17T17:18:13.429216Z",
     "iopub.status.busy": "2023-08-17T17:18:13.428499Z",
     "iopub.status.idle": "2023-08-17T17:18:13.433384Z",
     "shell.execute_reply": "2023-08-17T17:18:13.432574Z",
     "shell.execute_reply.started": "2023-08-17T17:18:13.429187Z"
    },
    "scrolled": true,
    "tags": []
   },
   "outputs": [
    {
     "name": "stdout",
     "output_type": "stream",
     "text": [
      "(4200, 54320)\r\n",
      "(1800, 54320)\r\n",
      "(2000, 54320)\r\n"
     ]
    }
   ],
   "source": [
    "print(train2_matrix.shape)\n",
    "print(eval2_matrix.shape)\n",
    "print(test_matrix.shape)"
   ]
  },
  {
   "cell_type": "markdown",
   "metadata": {},
   "source": [
    "## 引入逻辑回归模型进行训练\n"
   ]
  },
  {
   "cell_type": "code",
   "execution_count": 49,
   "metadata": {
    "execution": {
     "iopub.execute_input": "2023-08-17T17:11:15.467216Z",
     "iopub.status.busy": "2023-08-17T17:11:15.466691Z",
     "iopub.status.idle": "2023-08-17T17:11:15.472261Z",
     "shell.execute_reply": "2023-08-17T17:11:15.471325Z",
     "shell.execute_reply.started": "2023-08-17T17:11:15.467185Z"
    },
    "scrolled": true
   },
   "outputs": [],
   "source": [
    "from sklearn.metrics import f1_score"
   ]
  },
  {
   "cell_type": "code",
   "execution_count": 63,
   "metadata": {
    "execution": {
     "iopub.execute_input": "2023-08-17T17:18:27.032547Z",
     "iopub.status.busy": "2023-08-17T17:18:27.032012Z",
     "iopub.status.idle": "2023-08-17T17:19:43.879467Z",
     "shell.execute_reply": "2023-08-17T17:19:43.878289Z",
     "shell.execute_reply.started": "2023-08-17T17:18:27.032509Z"
    },
    "scrolled": true,
    "tags": []
   },
   "outputs": [
    {
     "name": "stdout",
     "output_type": "stream",
     "text": [
      "0.9184652278177459\r\n"
     ]
    }
   ],
   "source": [
    "model = LogisticRegression()\n",
    "\n",
    "## 开始训练，这里可以考虑修改默认的batch_size与epoch来取得更好的效果\n",
    "# Recall：train2['label']是长度为6000*训练ratio 的 1/0，代表是否是医学文献\n",
    "#         train2_matrix  是一个(6000*训练ratio,....)的稀疏矩阵，存储着每个text中每个单词的Tfidf分\n",
    "model.fit(train2_matrix, train2['label'])\n",
    "\n",
    "# 利用模型对测试集label标签进行预测，将预测结果存在eval2的pred_label中，和它的label比较求Fscore\n",
    "# Recall: eval2['label’]是长度为6000*（1-训练ratio）的 1/0 list\n",
    "#         eval2_matrix   是一个(6000*(1-训练ratio),....)的稀疏矩阵，。。。\n",
    "#         eval2['pred_label'] 是预测的6000*（1-训练ratio）的1/0 list\n",
    "eval2['pred_label'] = model.predict(eval2_matrix)\n",
    "\n",
    "\n",
    "## 以下会输出F1 score\n",
    "print(f1_score(eval2['pred_label'],eval2['label']))"
   ]
  },
  {
   "cell_type": "code",
   "execution_count": 66,
   "metadata": {
    "execution": {
     "iopub.execute_input": "2023-08-17T17:26:08.454678Z",
     "iopub.status.busy": "2023-08-17T17:26:08.454116Z",
     "iopub.status.idle": "2023-08-17T17:26:08.471174Z",
     "shell.execute_reply": "2023-08-17T17:26:08.470245Z",
     "shell.execute_reply.started": "2023-08-17T17:26:08.454647Z"
    },
    "scrolled": true
   },
   "outputs": [
    {
     "data": {
      "text/html": [
       "<div>\n",
       "<style scoped>\n",
       "    .dataframe tbody tr th:only-of-type {\n",
       "        vertical-align: middle;\n",
       "    }\n",
       "\n",
       "    .dataframe tbody tr th {\n",
       "        vertical-align: top;\n",
       "    }\n",
       "\n",
       "    .dataframe thead th {\n",
       "        text-align: right;\n",
       "    }\n",
       "</style>\n",
       "<table border=\"1\" class=\"dataframe\">\n",
       "  <thead>\n",
       "    <tr style=\"text-align: right;\">\n",
       "      <th></th>\n",
       "      <th>uuid</th>\n",
       "      <th>title</th>\n",
       "      <th>author</th>\n",
       "      <th>abstract</th>\n",
       "      <th>Keywords</th>\n",
       "      <th>label</th>\n",
       "      <th>text</th>\n",
       "      <th>pred_label</th>\n",
       "    </tr>\n",
       "  </thead>\n",
       "  <tbody>\n",
       "    <tr>\n",
       "      <th>4287</th>\n",
       "      <td>4287</td>\n",
       "      <td>Hybrid SDN evolution: A comprehensive survey o...</td>\n",
       "      <td>Khorsandroo, Sajad; Gallego Sanchez, Adrian; T...</td>\n",
       "      <td>Software-Defined Networking (SDN) is an evolut...</td>\n",
       "      <td>Software-Defined Networking (SDN); Hybrid SDN;...</td>\n",
       "      <td>0</td>\n",
       "      <td>Hybrid SDN evolution: A comprehensive survey o...</td>\n",
       "      <td>0</td>\n",
       "    </tr>\n",
       "    <tr>\n",
       "      <th>3173</th>\n",
       "      <td>3173</td>\n",
       "      <td>Crowd Counting in Low-Resolution Crowded Scene...</td>\n",
       "      <td>Saqib, Muhammad; Khan, Sultan Daud; Sharma, Na...</td>\n",
       "      <td>Crowd counting and density estimation is an im...</td>\n",
       "      <td>Deep convolutional neural networks; crowd coun...</td>\n",
       "      <td>0</td>\n",
       "      <td>Crowd Counting in Low-Resolution Crowded Scene...</td>\n",
       "      <td>0</td>\n",
       "    </tr>\n",
       "    <tr>\n",
       "      <th>3271</th>\n",
       "      <td>3271</td>\n",
       "      <td>Scaling and optimization of MOS optical modula...</td>\n",
       "      <td>Passaro, Vittorio M. N.; Dell'Olio, Francesco</td>\n",
       "      <td>In this paper, a very accurate model of optica...</td>\n",
       "      <td>integrated optics; MOS capacitors; optical mod...</td>\n",
       "      <td>0</td>\n",
       "      <td>Scaling and optimization of MOS optical modula...</td>\n",
       "      <td>0</td>\n",
       "    </tr>\n",
       "    <tr>\n",
       "      <th>823</th>\n",
       "      <td>823</td>\n",
       "      <td>Innovative application research on the combina...</td>\n",
       "      <td>Feng, Wei; Li, Xiuhua</td>\n",
       "      <td>Under the background of the continuous impact ...</td>\n",
       "      <td>Art design; engineering practice education; in...</td>\n",
       "      <td>0</td>\n",
       "      <td>Innovative application research on the combina...</td>\n",
       "      <td>0</td>\n",
       "    </tr>\n",
       "    <tr>\n",
       "      <th>3020</th>\n",
       "      <td>3020</td>\n",
       "      <td>Activation of Angiotensin-converting Enzyme 2 ...</td>\n",
       "      <td>Priya Tiwari,Virendra Tiwari,Shivangi Gupta,Sh...</td>\n",
       "      <td>Neuroinflammation is associated with activatio...</td>\n",
       "      <td>Angiotensin-Converting Enzyme 2; Glial activat...</td>\n",
       "      <td>1</td>\n",
       "      <td>Activation of Angiotensin-converting Enzyme 2 ...</td>\n",
       "      <td>1</td>\n",
       "    </tr>\n",
       "    <tr>\n",
       "      <th>...</th>\n",
       "      <td>...</td>\n",
       "      <td>...</td>\n",
       "      <td>...</td>\n",
       "      <td>...</td>\n",
       "      <td>...</td>\n",
       "      <td>...</td>\n",
       "      <td>...</td>\n",
       "      <td>...</td>\n",
       "    </tr>\n",
       "    <tr>\n",
       "      <th>72</th>\n",
       "      <td>72</td>\n",
       "      <td>Severe hypertriglyceridemia in an infant on ch...</td>\n",
       "      <td>Rasha Aly,Ratna Acharya,Kiran K Upadhyay,Rasha...</td>\n",
       "      <td>Severe hyperlipidemia is a risk factor for car...</td>\n",
       "      <td>hemodialysis; hypertriglyceridemia; infant.</td>\n",
       "      <td>1</td>\n",
       "      <td>Severe hypertriglyceridemia in an infant on ch...</td>\n",
       "      <td>1</td>\n",
       "    </tr>\n",
       "    <tr>\n",
       "      <th>5798</th>\n",
       "      <td>5798</td>\n",
       "      <td>Detectability-Based JPEG Steganography Modelin...</td>\n",
       "      <td>Giboulot, Quentin; Cogranne, Remi; Bas, Patrick</td>\n",
       "      <td>The current art of steganography shows that sc...</td>\n",
       "      <td>Pipelines; Transform coding; Estimation; Discr...</td>\n",
       "      <td>0</td>\n",
       "      <td>Detectability-Based JPEG Steganography Modelin...</td>\n",
       "      <td>0</td>\n",
       "    </tr>\n",
       "    <tr>\n",
       "      <th>5654</th>\n",
       "      <td>5654</td>\n",
       "      <td>The Role of Community Centre-based Arts, Leisu...</td>\n",
       "      <td>Jones, Mat; Kimberlee, Richard; Deave, Toity; ...</td>\n",
       "      <td>Developed countries are experiencing high leve...</td>\n",
       "      <td>community development; arts and health; health...</td>\n",
       "      <td>0</td>\n",
       "      <td>The Role of Community Centre-based Arts, Leisu...</td>\n",
       "      <td>1</td>\n",
       "    </tr>\n",
       "    <tr>\n",
       "      <th>3141</th>\n",
       "      <td>3141</td>\n",
       "      <td>Pseudomonas oryzagri sp. nov., isolated from a...</td>\n",
       "      <td>Md Amdadul Huq,Sun-Young Lee,Juncai Ma,M Mizan...</td>\n",
       "      <td>A Gram-stain-negative, aerobic, rod-shaped and...</td>\n",
       "      <td>Pseudomonas oryzagri; digital DNA–DNA hybridiz...</td>\n",
       "      <td>1</td>\n",
       "      <td>Pseudomonas oryzagri sp. nov., isolated from a...</td>\n",
       "      <td>1</td>\n",
       "    </tr>\n",
       "    <tr>\n",
       "      <th>776</th>\n",
       "      <td>776</td>\n",
       "      <td>Collective Intelligence Using 5G: Concepts, Ap...</td>\n",
       "      <td>Narayanan, Arun; Korium, Mohamed Selim; Melgar...</td>\n",
       "      <td>Distributed intelligence is a well-known appro...</td>\n",
       "      <td>Collective intelligence; Internet of Things; 5...</td>\n",
       "      <td>0</td>\n",
       "      <td>Collective Intelligence Using 5G: Concepts, Ap...</td>\n",
       "      <td>0</td>\n",
       "    </tr>\n",
       "  </tbody>\n",
       "</table>\n",
       "<p>1800 rows × 8 columns</p>\n",
       "</div>"
      ],
      "text/plain": [
       "      uuid                                              title  \\\n",
       "4287  4287  Hybrid SDN evolution: A comprehensive survey o...   \n",
       "3173  3173  Crowd Counting in Low-Resolution Crowded Scene...   \n",
       "3271  3271  Scaling and optimization of MOS optical modula...   \n",
       "823    823  Innovative application research on the combina...   \n",
       "3020  3020  Activation of Angiotensin-converting Enzyme 2 ...   \n",
       "...    ...                                                ...   \n",
       "72      72  Severe hypertriglyceridemia in an infant on ch...   \n",
       "5798  5798  Detectability-Based JPEG Steganography Modelin...   \n",
       "5654  5654  The Role of Community Centre-based Arts, Leisu...   \n",
       "3141  3141  Pseudomonas oryzagri sp. nov., isolated from a...   \n",
       "776    776  Collective Intelligence Using 5G: Concepts, Ap...   \n",
       "\n",
       "                                                 author  \\\n",
       "4287  Khorsandroo, Sajad; Gallego Sanchez, Adrian; T...   \n",
       "3173  Saqib, Muhammad; Khan, Sultan Daud; Sharma, Na...   \n",
       "3271      Passaro, Vittorio M. N.; Dell'Olio, Francesco   \n",
       "823                               Feng, Wei; Li, Xiuhua   \n",
       "3020  Priya Tiwari,Virendra Tiwari,Shivangi Gupta,Sh...   \n",
       "...                                                 ...   \n",
       "72    Rasha Aly,Ratna Acharya,Kiran K Upadhyay,Rasha...   \n",
       "5798    Giboulot, Quentin; Cogranne, Remi; Bas, Patrick   \n",
       "5654  Jones, Mat; Kimberlee, Richard; Deave, Toity; ...   \n",
       "3141  Md Amdadul Huq,Sun-Young Lee,Juncai Ma,M Mizan...   \n",
       "776   Narayanan, Arun; Korium, Mohamed Selim; Melgar...   \n",
       "\n",
       "                                               abstract  \\\n",
       "4287  Software-Defined Networking (SDN) is an evolut...   \n",
       "3173  Crowd counting and density estimation is an im...   \n",
       "3271  In this paper, a very accurate model of optica...   \n",
       "823   Under the background of the continuous impact ...   \n",
       "3020  Neuroinflammation is associated with activatio...   \n",
       "...                                                 ...   \n",
       "72    Severe hyperlipidemia is a risk factor for car...   \n",
       "5798  The current art of steganography shows that sc...   \n",
       "5654  Developed countries are experiencing high leve...   \n",
       "3141  A Gram-stain-negative, aerobic, rod-shaped and...   \n",
       "776   Distributed intelligence is a well-known appro...   \n",
       "\n",
       "                                               Keywords  label  \\\n",
       "4287  Software-Defined Networking (SDN); Hybrid SDN;...      0   \n",
       "3173  Deep convolutional neural networks; crowd coun...      0   \n",
       "3271  integrated optics; MOS capacitors; optical mod...      0   \n",
       "823   Art design; engineering practice education; in...      0   \n",
       "3020  Angiotensin-Converting Enzyme 2; Glial activat...      1   \n",
       "...                                                 ...    ...   \n",
       "72          hemodialysis; hypertriglyceridemia; infant.      1   \n",
       "5798  Pipelines; Transform coding; Estimation; Discr...      0   \n",
       "5654  community development; arts and health; health...      0   \n",
       "3141  Pseudomonas oryzagri; digital DNA–DNA hybridiz...      1   \n",
       "776   Collective intelligence; Internet of Things; 5...      0   \n",
       "\n",
       "                                                   text  pred_label  \n",
       "4287  Hybrid SDN evolution: A comprehensive survey o...           0  \n",
       "3173  Crowd Counting in Low-Resolution Crowded Scene...           0  \n",
       "3271  Scaling and optimization of MOS optical modula...           0  \n",
       "823   Innovative application research on the combina...           0  \n",
       "3020  Activation of Angiotensin-converting Enzyme 2 ...           1  \n",
       "...                                                 ...         ...  \n",
       "72    Severe hypertriglyceridemia in an infant on ch...           1  \n",
       "5798  Detectability-Based JPEG Steganography Modelin...           0  \n",
       "5654  The Role of Community Centre-based Arts, Leisu...           1  \n",
       "3141  Pseudomonas oryzagri sp. nov., isolated from a...           1  \n",
       "776   Collective Intelligence Using 5G: Concepts, Ap...           0  \n",
       "\n",
       "[1800 rows x 8 columns]"
      ]
     },
     "execution_count": 66,
     "metadata": {},
     "output_type": "execute_result"
    }
   ],
   "source": [
    "eval2"
   ]
  },
  {
   "cell_type": "markdown",
   "metadata": {},
   "source": [
    "可以调试参数，或者改变方法，达到最高F1score 的时候，用fit好的模型来预测test set，再提交"
   ]
  },
  {
   "cell_type": "code",
   "execution_count": 65,
   "metadata": {
    "execution": {
     "iopub.execute_input": "2023-08-17T17:20:02.529708Z",
     "iopub.status.busy": "2023-08-17T17:20:02.528977Z",
     "iopub.status.idle": "2023-08-17T17:20:02.544689Z",
     "shell.execute_reply": "2023-08-17T17:20:02.543829Z",
     "shell.execute_reply.started": "2023-08-17T17:20:02.529675Z"
    },
    "scrolled": true
   },
   "outputs": [],
   "source": [
    "# 用模型预测test_matrix稀疏矩阵最后得到的结果，存在test这个dataFrame中\n",
    "# 然后，test中需要预测的关键词就直接挑选了标题。。。\n",
    "test['label'] = model.predict(test_matrix)\n",
    "test['Keywords'] = test['title'].fillna('')\n",
    "# 将uuid Keywords 和label 导出生成csv\n",
    "test[['uuid','Keywords','label']].to_csv('submit_task2.csv', index=None)"
   ]
  },
  {
   "cell_type": "markdown",
   "metadata": {},
   "source": [
    "完整baseline运行后任务一分数在0.67116左右"
   ]
  },
  {
   "cell_type": "markdown",
   "metadata": {},
   "source": [
    "请点击[此处](https://ai.baidu.com/docs#/AIStudio_Project_Notebook/a38e5576)查看本环境基本用法.  <br>\n",
    "Please click [here ](https://ai.baidu.com/docs#/AIStudio_Project_Notebook/a38e5576) for more detailed instructions. "
   ]
  }
 ],
 "metadata": {
  "kernelspec": {
   "display_name": "Python 3",
   "language": "python",
   "name": "py35-paddle1.2.0"
  },
  "language_info": {
   "codemirror_mode": {
    "name": "ipython",
    "version": 3
   },
   "file_extension": ".py",
   "mimetype": "text/x-python",
   "name": "python",
   "nbconvert_exporter": "python",
   "pygments_lexer": "ipython3",
   "version": "3.10.10"
  },
  "toc-autonumbering": false,
  "toc-showcode": false
 },
 "nbformat": 4,
 "nbformat_minor": 4
}
